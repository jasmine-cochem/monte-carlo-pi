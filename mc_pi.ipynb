{
 "cells": [
  {
   "cell_type": "markdown",
   "metadata": {},
   "source": [
    "# MC Integration\n",
    "We will use Monte Carlo (MC) to calculate -pi-"
   ]
  },
  {
   "cell_type": "markdown",
   "metadata": {},
   "source": [
    "Using the Python Standard library"
   ]
  },
  {
   "cell_type": "code",
   "execution_count": null,
   "metadata": {},
   "outputs": [],
   "source": [
    "import random #library to generate random numbers\n",
    "import math"
   ]
  },
  {
   "cell_type": "code",
   "execution_count": null,
   "metadata": {},
   "outputs": [],
   "source": [
    "n_samples = 100 #we want 100 random samples\n",
    "num_inside = 0 #start a counter to keep track of how many pts have fallen inside our unit circle"
   ]
  },
  {
   "cell_type": "code",
   "execution_count": null,
   "metadata": {},
   "outputs": [],
   "source": [
    "#random.random()   # use random.random function since we want uniform from 0 to 1 #gives floating pts between zero and 1\n",
    "#want to use this fxn to generate both x an y values 100 times\n",
    "#Need a for loop since we do 100 times\n",
    "\n",
    "for i in range(n_samples):\n",
    "    # print (i) #Just checking to see the 100 points\n",
    "    #CLASS: Generate a random point between 0 and 1 for x.\n",
    "    x = random.random()\n",
    "    \n",
    "    # Generate a random point between 0 and 1 for y.\n",
    "    y = random.random()\n",
    "    \n",
    "    #Print the first point\n",
    "    #print(f'The generated point is ( {x}, {y})')  #Printing the random points that are generated\n",
    "    \n",
    "    #We used the random function in python to generate 100 random points in range [0,1]\n",
    "    #Now want to find how many of the 100 points are under the circle's line in quadrant 1 of unit circle (refer to slide 8/9 Lec 6)\n",
    "    # So we want to take x and y pts we generated, calculate with dist from origin and compare with radius = 1 (unit cicle)\n",
    "    distance_from_origin = math.sqrt(x ** 2 + y ** 2)  #using math library to calc dist/\"radius\"\n",
    "    \n",
    "    if distance_from_origin < 1:\n",
    "        num_inside +=1  #If this is true, add this point to our unit circle"
   ]
  },
  {
   "cell_type": "code",
   "execution_count": null,
   "metadata": {},
   "outputs": [],
   "source": [
    "#Calculate pi\n",
    "my_pi = 4 * num_inside / n_samples"
   ]
  },
  {
   "cell_type": "code",
   "execution_count": null,
   "metadata": {},
   "outputs": [],
   "source": [
    "print(my_pi)  #see what our estimated value of pi is after this implementation"
   ]
  },
  {
   "cell_type": "code",
   "execution_count": null,
   "metadata": {},
   "outputs": [],
   "source": [
    "# This implementation so far is python std library\n",
    "# Later we use matplotlib which is a digitalization image library\n",
    "import matplotlib.pyplot as plt  #now when we want to call this fxn in code can just call plt\n",
    "\n",
    "%matplotlib notebook \n",
    "# Using special command for using matplotlib in Jupyter notebook"
   ]
  },
  {
   "cell_type": "code",
   "execution_count": null,
   "metadata": {},
   "outputs": [],
   "source": [
    "fig = plt.figure(figsize=(4,4))\n",
    "ax = fig.add_subplot(111)\n",
    "fig.show()"
   ]
  },
  {
   "cell_type": "code",
   "execution_count": null,
   "metadata": {},
   "outputs": [],
   "source": [
    "# Copy for loop from before \n",
    "# Modify loop to create the plot visulization and print the estimated values of pi\n",
    "\n",
    "n_samples = 100000 #(more points to visualize the circle on the graph)\n",
    "\n",
    "#Empty lists for appending\n",
    "calculated_pi = [] #empty lists to append\n",
    "n_values = [] #second empty list #appending these lists later\n",
    "\n",
    "num_inside = 0\n",
    "\n",
    "\n",
    "for i in range(1, n_samples):  #start at 1\n",
    "    # print (i) #Just checking to see the 100 points\n",
    "    #CLASS: Generate a random point between 0 and 1 for x.\n",
    "    x = random.random()\n",
    "    \n",
    "    # Generate a random point between 0 and 1 for y.\n",
    "    y = random.random()\n",
    "    \n",
    "    #Print the first point\n",
    "    #print(f'The generated point is ( {x}, {y})')  #Printing the random points that are generated\n",
    "    \n",
    "    #We used the random function in python to generate 100 random points in range [0,1]\n",
    "    #Now want to find how many of the 100 points are under the circle's line in quadrant 1 of unit circle (refer to slide 8/9 Lec 6)\n",
    "    # So we want to take x and y pts we generated, calculate with dist from origin and compare with radius = 1 (unit cicle)\n",
    "    distance_from_origin = math.sqrt(x ** 2 + y ** 2)  #using math library to calc dist (radius)\n",
    "   \n",
    "#We created an empty figure and now we want to add points to the figure\n",
    "# We want to plot the point if it falls within the circle \n",
    "\n",
    "    if distance_from_origin < 1:\n",
    "        num_inside +=1  #If this is true, add this point to our unit circle\n",
    "        ax.plot(x,y, 'ob') #blue circles for inside circle\n",
    "        \n",
    "    else:\n",
    "        ax.plot(x,y, 'r*') #red stars for outside circle\n",
    "        \n",
    "    \n",
    "#We want to append to those lists everytime we have power of 10 (1,10,100,10000)\n",
    "    log10 = math.log(i, 10) #If its a power of 10, it will be appended\n",
    "    \n",
    "    if log10 % 1 == 0:\n",
    "        my_pi = 4*num_inside/i  #here we calculate pi #Compare points inside circle to number of points we have so far total\n",
    "        calculated_pi.append(my_pi)\n",
    "        n_values.append(i+1)\n",
    "        \n",
    "        print(f\"{i}) \\t {my_pi}\")\n"
   ]
  },
  {
   "cell_type": "code",
   "execution_count": null,
   "metadata": {},
   "outputs": [],
   "source": [
    "# Output: as increase # samples, closer we get to pi\n",
    "# Take home, more samples is more accurate, but disadvantage of more samples is it takes more time\n",
    "# We have completed our monte carlo estimation of pi!"
   ]
  },
  {
   "cell_type": "code",
   "execution_count": null,
   "metadata": {},
   "outputs": [],
   "source": []
  }
 ],
 "metadata": {
  "kernelspec": {
   "display_name": "Python 3",
   "language": "python",
   "name": "python3"
  },
  "language_info": {
   "codemirror_mode": {
    "name": "ipython",
    "version": 3
   },
   "file_extension": ".py",
   "mimetype": "text/x-python",
   "name": "python",
   "nbconvert_exporter": "python",
   "pygments_lexer": "ipython3",
   "version": "3.7.7"
  }
 },
 "nbformat": 4,
 "nbformat_minor": 4
}
