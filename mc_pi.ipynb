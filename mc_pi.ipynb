{
 "cells": [
  {
   "cell_type": "markdown",
   "metadata": {},
   "source": [
    "# MC Integration\n",
    "We will use Monte Carlo (MC) to calculate -pi-"
   ]
  },
  {
   "cell_type": "markdown",
   "metadata": {},
   "source": [
    "Using the Python Standard library"
   ]
  },
  {
   "cell_type": "code",
   "execution_count": null,
   "metadata": {},
   "outputs": [],
   "source": [
    "import random #library to generate random numbers\n",
    "import math\n",
    "import time\n",
    "\n",
    "import numpy as np"
   ]
  },
  {
   "cell_type": "code",
   "execution_count": null,
   "metadata": {},
   "outputs": [],
   "source": [
    "n_samples = 1000000\n",
    "num_inside = 0 #start a counter to keep track of how many pts have fallen inside our unit circle"
   ]
  },
  {
   "cell_type": "code",
   "execution_count": null,
   "metadata": {},
   "outputs": [],
   "source": [
    "#random.random()   # use random.random function since we want uniform from 0 to 1 #gives floating pts between zero and 1\n",
    "#want to use this fxn to generate both x an y values 100 times\n",
    "#Need a for loop since we do 100 times\n",
    "\n",
    "start = time.time()\n",
    "\n",
    "# Emptylists for appending\n",
    "\n",
    "\n",
    "for i in range(n_samples):\n",
    "    # print (i) #Just checking to see the 100 points\n",
    "    #CLASS: Generate a random point between 0 and 1 for x.\n",
    "    x = random.random()\n",
    "    \n",
    "    # Generate a random point between 0 and 1 for y.\n",
    "    y = random.random()\n",
    "    \n",
    "    #Print the first point\n",
    "    #print(f'The generated point is ( {x}, {y})')  #Printing the random points that are generated\n",
    "    \n",
    "    #We used the random function in python to generate 100 random points in range [0,1]\n",
    "    #Now want to find how many of the 100 points are under the circle's line in quadrant 1 of unit circle (refer to slide 8/9 Lec 6)\n",
    "    # So we want to take x and y pts we generated, calculate with dist from origin and compare with radius = 1 (unit cicle)\n",
    "    distance_from_origin = math.sqrt(x ** 2 + y ** 2)  #using math library to calc dist/\"radius\"\n",
    "    \n",
    "    if distance_from_origin < 1:\n",
    "        num_inside +=1  #If this is true, add this point to our unit circle"
   ]
  },
  {
   "cell_type": "code",
   "execution_count": null,
   "metadata": {},
   "outputs": [],
   "source": []
  },
  {
   "cell_type": "code",
   "execution_count": null,
   "metadata": {},
   "outputs": [],
   "source": []
  },
  {
   "cell_type": "code",
   "execution_count": null,
   "metadata": {},
   "outputs": [],
   "source": []
  },
  {
   "cell_type": "code",
   "execution_count": null,
   "metadata": {},
   "outputs": [],
   "source": []
  },
  {
   "cell_type": "code",
   "execution_count": null,
   "metadata": {},
   "outputs": [],
   "source": [
    "# Copy for loop from before \n",
    "# Modify loop to create the plot visulization and print the estimated values of pi\n",
    "\n",
    "n_samples = 1000000 #(more points to visualize the circle on the graph)\n",
    "\n",
    "start = time.time()\n",
    "\n",
    "#Empty lists for appending\n",
    "calculated_pi = [] #empty lists to append\n",
    "n_values = [] #second empty list #appending these lists later\n",
    "\n",
    "num_inside = 0\n",
    "\n",
    "\n",
    "for i in range(1, n_samples):  #start at 1\n",
    "    # print (i) #Just checking to see the 100 points\n",
    "    #CLASS: Generate a random point between 0 and 1 for x.\n",
    "    x = random.random()\n",
    "    \n",
    "    # Generate a random point between 0 and 1 for y.\n",
    "    y = random.random()\n",
    "    \n",
    "    #Print the first point\n",
    "    #print(f'The generated point is ( {x}, {y})')  #Printing the random points that are generated\n",
    "    \n",
    "    #We used the random function in python to generate 100 random points in range [0,1]\n",
    "    #Now want to find how many of the 100 points are under the circle's line in quadrant 1 of unit circle (refer to slide 8/9 Lec 6)\n",
    "    # So we want to take x and y pts we generated, calculate with dist from origin and compare with radius = 1 (unit cicle)\n",
    "    distance_from_origin = math.sqrt(x ** 2 + y ** 2)  #using math library to calc dist (radius)\n",
    "   \n",
    "# We created an empty figure and now we want to add points to the figure\n",
    "# We want to plot the point if it falls within the circle \n",
    "\n",
    "    if distance_from_origin < 1:\n",
    "        num_inside +=1  #If this is true, add this point to our unit circle\n",
    "\n",
    "my_pi = 4*num_inside / n_samples\n",
    "end = time.time()\n",
    "elapsed_time = end - start\n",
    "\n",
    "print(f'{my_pi} calculated with {n_samples} samples using Python Standard Library : {elapsed_time}')\n",
    "       "
   ]
  },
  {
   "cell_type": "code",
   "execution_count": null,
   "metadata": {},
   "outputs": [],
   "source": [
    "# Output: as increase # samples, closer we get to pi\n",
    "# Take home, more samples is more accurate, but disadvantage of more samples is it takes more time\n",
    "# We have completed our monte carlo estimation of pi!"
   ]
  },
  {
   "cell_type": "markdown",
   "metadata": {},
   "source": [
    "## NumPy Calculation of pi"
   ]
  },
  {
   "cell_type": "code",
   "execution_count": null,
   "metadata": {},
   "outputs": [],
   "source": [
    "start = time.time()\n",
    "\n",
    "random_numbers = np.random.random((n_samples, 2))\n",
    "r_squared = random_numbers ** 2\n",
    "\n",
    "vals = r_squared.sum(axis=1)\n",
    "vals = np.sqrt(vals)\n",
    "\n",
    "points_inside = vals < 1\n",
    "num_inside = points_inside.sum()\n",
    "\n",
    "pi = 4 * num_inside / n_samples\n",
    "\n",
    "end = time.time()\n",
    "\n",
    "elapsed_time_numpy = end - start\n",
    "\n",
    "print(f\"{pi} calculated with {n_samples} using NumPy Library : {elapsed_time}\")\n",
    "\n"
   ]
  },
  {
   "cell_type": "code",
   "execution_count": null,
   "metadata": {},
   "outputs": [],
   "source": [
    "print(f'Numpy was {elapsed_time/elapsed_time_numpy} times faster than the Python Standard Library.')"
   ]
  },
  {
   "cell_type": "code",
   "execution_count": null,
   "metadata": {},
   "outputs": [],
   "source": [
    "print(random_numbers[:10])"
   ]
  },
  {
   "cell_type": "code",
   "execution_count": null,
   "metadata": {},
   "outputs": [],
   "source": [
    "# Element-wise squaring\n",
    "\n",
    "r_squared.shape"
   ]
  },
  {
   "cell_type": "code",
   "execution_count": null,
   "metadata": {},
   "outputs": [],
   "source": [
    "random_numbers[0,0] ** 2 - r_squared[0,0]"
   ]
  },
  {
   "cell_type": "code",
   "execution_count": null,
   "metadata": {},
   "outputs": [],
   "source": [
    "vals = r_squared.sum(axis=1)\n",
    "vals.shape"
   ]
  },
  {
   "cell_type": "code",
   "execution_count": null,
   "metadata": {},
   "outputs": [],
   "source": [
    "vals = np.sqrt(vals)"
   ]
  },
  {
   "cell_type": "code",
   "execution_count": null,
   "metadata": {},
   "outputs": [],
   "source": [
    "vals < 1"
   ]
  },
  {
   "cell_type": "code",
   "execution_count": null,
   "metadata": {},
   "outputs": [],
   "source": []
  },
  {
   "cell_type": "code",
   "execution_count": null,
   "metadata": {},
   "outputs": [],
   "source": []
  },
  {
   "cell_type": "code",
   "execution_count": null,
   "metadata": {},
   "outputs": [],
   "source": []
  }
 ],
 "metadata": {
  "kernelspec": {
   "display_name": "Python 3",
   "language": "python",
   "name": "python3"
  },
  "language_info": {
   "codemirror_mode": {
    "name": "ipython",
    "version": 3
   },
   "file_extension": ".py",
   "mimetype": "text/x-python",
   "name": "python",
   "nbconvert_exporter": "python",
   "pygments_lexer": "ipython3",
   "version": "3.7.7"
  }
 },
 "nbformat": 4,
 "nbformat_minor": 4
}
